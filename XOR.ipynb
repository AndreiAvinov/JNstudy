{
 "cells": [
  {
   "cell_type": "code",
   "execution_count": 13,
   "metadata": {},
   "outputs": [],
   "source": [
    "import numpy as np \n",
    "import matplotlib.pyplot as plt\n",
    "\n",
    "\n",
    "def sigmoid (x):\n",
    "    return 1/(1 + np.exp(-x))\n",
    "\n",
    "def sigmoid_derivative(x):\n",
    "    return x * (1 - x)\n",
    "\n",
    "\n",
    "inputs = np.array([[0,0,1,0,0,1,0,0,1,0,0,1,0,0,1],\n",
    "                   [1,1,1,0,0,1,1,1,1,1,0,0,1,1,1],\n",
    "                   [1,1,1,0,0,1,1,1,1,0,0,1,1,1,1]])\n",
    "expected_output = np.array([[1,0,0],[0,1,0],[0,0,1]])\n",
    "\n",
    "epochs = 10000\n",
    "lr = 0.1\n",
    "inputLayerNeurons, hiddenLayerNeurons, outputLayerNeurons = 15,15,3\n",
    "\n",
    "\n",
    "hidden_weights = np.random.uniform(size=(inputLayerNeurons,hiddenLayerNeurons))\n",
    "hidden_bias =np.random.uniform(size=(1,hiddenLayerNeurons))\n",
    "output_weights = np.random.uniform(size=(hiddenLayerNeurons,outputLayerNeurons))\n",
    "output_bias = np.random.uniform(size=(1,outputLayerNeurons))\n",
    "\n",
    "\n",
    "\n",
    "for i in range(epochs):\n",
    "    \n",
    "    hidden_layer_activation = np.dot(inputs,hidden_weights)\n",
    "    hidden_layer_activation += hidden_bias\n",
    "    hidden_layer_output = sigmoid(hidden_layer_activation)\n",
    "\n",
    "    output_layer_activation = np.dot(hidden_layer_output,output_weights)\n",
    "    output_layer_activation += output_bias\n",
    "    predicted_output = sigmoid(output_layer_activation)\n",
    "\n",
    "    \n",
    "    error = expected_output - predicted_output\n",
    "    d_predicted_output = error * sigmoid_derivative(predicted_output)\n",
    "    \n",
    "    error_hidden_layer = d_predicted_output.dot(output_weights.T)\n",
    "    d_hidden_layer = error_hidden_layer * sigmoid_derivative(hidden_layer_output)\n",
    "\n",
    "    \n",
    "    output_weights += hidden_layer_output.T.dot(d_predicted_output) * lr\n",
    "    output_bias += np.sum(d_predicted_output,axis=0,keepdims=True) * lr\n",
    "    hidden_weights += inputs.T.dot(d_hidden_layer) * lr\n",
    "    hidden_bias += np.sum(d_hidden_layer,axis=0,keepdims=True) * lr\n",
    "    \n",
    "\n"
   ]
  },
  {
   "cell_type": "code",
   "execution_count": 34,
   "metadata": {},
   "outputs": [
    {
     "data": {
      "image/png": "[encoded data removed]",
      "text/plain": [
       "<Figure size 432x288 with 1 Axes>"
      ]
     },
     "metadata": {
      "needs_background": "light"
     },
     "output_type": "display_data"
    },
    {
     "name": "stdout",
     "output_type": "stream",
     "text": [
      "[[0.00618329 0.97394245 0.02676642]]\n",
      "\n",
      "[[0.93301666 0.99221135 0.91556172]\n",
      " [0.995518   0.93770321 0.94807749]\n",
      " [0.98305814 0.98394129 0.98895176]\n",
      " [0.99858434 0.98997952 0.99720278]\n",
      " [0.99446957 0.94431789 0.98346839]]\n"
     ]
    },
    {
     "data": {
      "image/png": "[encoded data removed]",
      "text/plain": [
       "<Figure size 432x288 with 1 Axes>"
      ]
     },
     "metadata": {
      "needs_background": "light"
     },
     "output_type": "display_data"
    }
   ],
   "source": [
    "inputs = np.array([[1,1,1,0,0,1,0,1,0,1,0,0,1,1,1]])\n",
    "plt.imshow(np.resize(inputs, (5, 3)), cmap='Greys')\n",
    "plt.show()\n",
    "\n",
    "hidden_layer_activation = np.dot(inputs,hidden_weights)\n",
    "hidden_layer_activation += hidden_bias\n",
    "hidden_layer_output = sigmoid(hidden_layer_activation)\n",
    "\n",
    "output_layer_activation = np.dot(hidden_layer_output,output_weights)\n",
    "output_layer_activation += output_bias\n",
    "predicted_output = sigmoid(output_layer_activation)\n",
    "\n",
    "print(predicted_output)\n",
    "print()\n",
    "\n",
    "hmap = np.resize(hidden_layer_output, (5, 3))\n",
    "print(hmap)\n",
    "plt.imshow(hmap)\n",
    "plt.show()"
   ]
  },
  {
   "cell_type": "code",
   "execution_count": null,
   "metadata": {},
   "outputs": [],
   "source": []
  }
 ],
 "metadata": {
  "kernelspec": {
   "display_name": "Python 3",
   "language": "python",
   "name": "python3"
  },
  "language_info": {
   "codemirror_mode": {
    "name": "ipython",
    "version": 3
   },
   "file_extension": ".py",
   "mimetype": "text/x-python",
   "name": "python",
   "nbconvert_exporter": "python",
   "pygments_lexer": "ipython3",
   "version": "3.7.9"
  }
 },
 "nbformat": 4,
 "nbformat_minor": 4
}
