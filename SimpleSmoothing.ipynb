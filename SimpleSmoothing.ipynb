{
 "cells": [
  {
   "cell_type": "code",
   "execution_count": 1,
   "metadata": {},
   "outputs": [],
   "source": [
    "import os\n",
    "import numpy as np\n",
    "import pandas as pd\n",
    "import matplotlib.pyplot as plt\n",
    "from statsmodels.tsa.api import ExponentialSmoothing, SimpleExpSmoothing, Holt"
   ]
  },
  {
   "cell_type": "code",
   "execution_count": 2,
   "metadata": {},
   "outputs": [
    {
     "data": {
      "text/html": [
       "<div>\n",
       "<style scoped>\n",
       "    .dataframe tbody tr th:only-of-type {\n",
       "        vertical-align: middle;\n",
       "    }\n",
       "\n",
       "    .dataframe tbody tr th {\n",
       "        vertical-align: top;\n",
       "    }\n",
       "\n",
       "    .dataframe thead th {\n",
       "        text-align: right;\n",
       "    }\n",
       "</style>\n",
       "<table border=\"1\" class=\"dataframe\">\n",
       "  <thead>\n",
       "    <tr style=\"text-align: right;\">\n",
       "      <th></th>\n",
       "      <th>Вр. Ряд</th>\n",
       "    </tr>\n",
       "  </thead>\n",
       "  <tbody>\n",
       "    <tr>\n",
       "      <th>0</th>\n",
       "      <td>95.44</td>\n",
       "    </tr>\n",
       "    <tr>\n",
       "      <th>1</th>\n",
       "      <td>94.42</td>\n",
       "    </tr>\n",
       "    <tr>\n",
       "      <th>2</th>\n",
       "      <td>93.03</td>\n",
       "    </tr>\n",
       "    <tr>\n",
       "      <th>3</th>\n",
       "      <td>91.35</td>\n",
       "    </tr>\n",
       "    <tr>\n",
       "      <th>4</th>\n",
       "      <td>89.58</td>\n",
       "    </tr>\n",
       "    <tr>\n",
       "      <th>...</th>\n",
       "      <td>...</td>\n",
       "    </tr>\n",
       "    <tr>\n",
       "      <th>111</th>\n",
       "      <td>46.48</td>\n",
       "    </tr>\n",
       "    <tr>\n",
       "      <th>112</th>\n",
       "      <td>46.49</td>\n",
       "    </tr>\n",
       "    <tr>\n",
       "      <th>113</th>\n",
       "      <td>46.66</td>\n",
       "    </tr>\n",
       "    <tr>\n",
       "      <th>114</th>\n",
       "      <td>47.06</td>\n",
       "    </tr>\n",
       "    <tr>\n",
       "      <th>115</th>\n",
       "      <td>47.68</td>\n",
       "    </tr>\n",
       "  </tbody>\n",
       "</table>\n",
       "<p>116 rows × 1 columns</p>\n",
       "</div>"
      ],
      "text/plain": [
       "     Вр. Ряд\n",
       "0      95.44\n",
       "1      94.42\n",
       "2      93.03\n",
       "3      91.35\n",
       "4      89.58\n",
       "..       ...\n",
       "111    46.48\n",
       "112    46.49\n",
       "113    46.66\n",
       "114    47.06\n",
       "115    47.68\n",
       "\n",
       "[116 rows x 1 columns]"
      ]
     },
     "metadata": {},
     "output_type": "display_data"
    }
   ],
   "source": [
    "df = pd.read_csv('Лаб4.csv', sep=\",\", decimal=\".\")\n",
    "display(df)"
   ]
  },
  {
   "cell_type": "markdown",
   "metadata": {},
   "source": [
    "<h2>Проверим первую модель с p=0 и alpha=0.9</h2>\n",
    "<br>\n",
    "Результаты совпали, ознакомиться с метриками, а также прогнозом на один шаг вперёд можно ниже"
   ]
  },
  {
   "cell_type": "code",
   "execution_count": 8,
   "metadata": {
    "scrolled": false
   },
   "outputs": [
    {
     "name": "stdout",
     "output_type": "stream",
     "text": [
      "                       SimpleExpSmoothing Model Results                       \n",
      "==============================================================================\n",
      "Dep. Variable:                Вр. Ряд   No. Observations:                  116\n",
      "Model:             SimpleExpSmoothing   SSE                            127.074\n",
      "Optimized:                      False   AIC                             14.577\n",
      "Trend:                           None   BIC                             20.084\n",
      "Seasonal:                        None   AICC                            14.937\n",
      "Seasonal Periods:                None   Date:                 Fri, 20 Nov 2020\n",
      "Box-Cox:                        False   Time:                         22:26:58\n",
      "Box-Cox Coeff.:                  None                                         \n",
      "==============================================================================\n",
      "                       coeff                 code              optimized      \n",
      "------------------------------------------------------------------------------\n",
      "smoothing_level            0.9000000                alpha                False\n",
      "initial_level              92.760000                  l.0                False\n",
      "------------------------------------------------------------------------------\n",
      "\n",
      "Прогзноз на шаг вперёд: 47.613828720992515\n"
     ]
    },
    {
     "data": {
      "image/png": "[encoded data removed]",
      "text/plain": [
       "<Figure size 864x576 with 1 Axes>"
      ]
     },
     "metadata": {
      "needs_background": "light"
     },
     "output_type": "display_data"
    }
   ],
   "source": [
    "fit1 = SimpleExpSmoothing(df, initialization_method=\"known\", initial_level=92.76).fit(smoothing_level=0.9,optimized=False)\n",
    "\n",
    "plt.figure(figsize=(12, 8))\n",
    "plt.plot(df, marker='o', color='black')\n",
    "plt.plot(fit1.fittedvalues, marker='o', color='red')\n",
    "line1, = plt.plot(fcast1, marker='o', color='red')\n",
    "\n",
    "print(fit1.summary())\n",
    "print(\"\\nПрогзноз на шаг вперёд: \" + str(fit1.forecast()[116]))"
   ]
  },
  {
   "cell_type": "code",
   "execution_count": null,
   "metadata": {},
   "outputs": [],
   "source": []
  }
 ],
 "metadata": {
  "kernelspec": {
   "display_name": "Python 3",
   "language": "python",
   "name": "python3"
  },
  "language_info": {
   "codemirror_mode": {
    "name": "ipython",
    "version": 3
   },
   "file_extension": ".py",
   "mimetype": "text/x-python",
   "name": "python",
   "nbconvert_exporter": "python",
   "pygments_lexer": "ipython3",
   "version": "3.7.9"
  }
 },
 "nbformat": 4,
 "nbformat_minor": 2
}
